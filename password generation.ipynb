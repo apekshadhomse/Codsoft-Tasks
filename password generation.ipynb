{
 "cells": [
  {
   "cell_type": "code",
   "execution_count": null,
   "id": "aa5d7e6e",
   "metadata": {},
   "outputs": [],
   "source": [
    "import random, string\n",
    "\n",
    "number_of_passwords = int(input(\"number of passwords do you want to generate? \"))\n",
    "password_length = int(input(\"Provide the length of password: \"))\n",
    "\n",
    "characters = string.ascii_letters + string.digits + string.punctuation\n",
    "\n",
    "for password_index in range(number_of_passwords):\n",
    "    password = \"\"   \n",
    "\n",
    "    for index in range(password_length):\n",
    "        password = password + random.choice(characters)\n",
    "\n",
    "    print(\"Password{} generated:{}\".format(password_index, password))"
   ]
  },
  {
   "cell_type": "code",
   "execution_count": null,
   "id": "a2b4762a",
   "metadata": {},
   "outputs": [],
   "source": []
  },
  {
   "cell_type": "code",
   "execution_count": null,
   "id": "73cd421e",
   "metadata": {},
   "outputs": [],
   "source": []
  }
 ],
 "metadata": {
  "kernelspec": {
   "display_name": "Python 3 (ipykernel)",
   "language": "python",
   "name": "python3"
  },
  "language_info": {
   "codemirror_mode": {
    "name": "ipython",
    "version": 3
   },
   "file_extension": ".py",
   "mimetype": "text/x-python",
   "name": "python",
   "nbconvert_exporter": "python",
   "pygments_lexer": "ipython3",
   "version": "3.11.4"
  }
 },
 "nbformat": 4,
 "nbformat_minor": 5
}
